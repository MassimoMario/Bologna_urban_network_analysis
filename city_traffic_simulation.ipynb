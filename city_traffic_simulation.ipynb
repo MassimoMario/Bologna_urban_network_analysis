{
 "cells": [
  {
   "cell_type": "code",
   "execution_count": null,
   "metadata": {},
   "outputs": [],
   "source": [
    "import osmnx as ox\n",
    "import networkx as nx\n",
    "import numpy as np\n",
    "import matplotlib.pyplot as plt\n",
    "import pandas as pd\n",
    "import random\n",
    "from matplotlib.animation import FuncAnimation\n",
    "from IPython.display import display, HTML\n",
    "from tqdm import tqdm\n",
    "import warnings\n",
    "import time\n",
    "import statistics as st\n",
    "from utils import set_road_network, clean_graph_data, città50, show_speed_limits, show_traffic_and_accident\n",
    "from simulation import traffic_simulation"
   ]
  },
  {
   "cell_type": "code",
   "execution_count": null,
   "metadata": {},
   "outputs": [],
   "source": [
    "warnings.filterwarnings(\"ignore\")\n",
    "plt.rcParams['animation.embed_limit'] = 2**128"
   ]
  },
  {
   "cell_type": "markdown",
   "metadata": {},
   "source": [
    "#### A notebook implemented for simulating car traffic through Bologna\n",
    "#### It has been coded and tested for Bologna, <span style=\"color:red\"> running the code for other cities may end up with weird/absurd results </span> , in particular with those cities adopting *mph* as speed unit of measure"
   ]
  },
  {
   "cell_type": "code",
   "execution_count": null,
   "metadata": {},
   "outputs": [],
   "source": [
    "city = 'Bologna'\n",
    "city_radius = 3900\n",
    "n_cars = 1000  \n",
    "speed_up = 200\n",
    "scale = 0.4\n",
    "size = 2*city_radius\n",
    "dt = 0.05\n",
    "n_frame = 720\n",
    "animate = True \n",
    "citta50 = False"
   ]
  },
  {
   "cell_type": "markdown",
   "metadata": {},
   "source": [
    "# Set up:\n",
    "\n",
    "- <span style=\"color:green\"> *radius* </span> : int = radius of the city in meters\n",
    "\n",
    "- <span style=\"color:green\"> *n_cars* </span> : int = number of cars to simulate\n",
    "\n",
    "- <span style=\"color:green\"> *speed_up* </span> : int = speed up factor making simulation faster than reality \n",
    "\n",
    "- <span style=\"color:green\"> *scale* </span> : float = refers to scale of arrows dimension within the animation\n",
    "\n",
    "- <span style=\"color:green\"> *size* </span> : int = refers to maximum value of animation image boundaries\n",
    "\n",
    "- <span style=\"color:green\"> *dt* </span>  : float = time interval with which the simulation is computed\n",
    "\n",
    "- <span style=\"color:green\"> *n_frame* </span> : int = number of frames of the simulation\n",
    "            \n",
    "- <span style=\"color:green\"> *animate* </span> : Bool = if True shows traffic animation, speeds animation and accelerations animation\n",
    "\n",
    "- <span style=\"color:green\"> *citta50* </span> : Bool = acts <span style=\"color:red\"> only if *city* = 'Bologna' </span> setting speed limits before zona30 (until January 2024)"
   ]
  },
  {
   "cell_type": "markdown",
   "metadata": {},
   "source": [
    "### <span style=\"color:red\"> Take into consideration: </span>\n",
    "To avoid weird results:\n",
    "- <span style=\"color:green\"> *dt* </span> should lie in the [0.01,0.1] range\n",
    "\n",
    "- <span style=\"color:green\"> *speed_up* </span> should not be higher than 500\n",
    "\n",
    "To have enough statistic:\n",
    "- <span style=\"color:green\"> *n_cars* </span> should be at least 500\n",
    "\n",
    "- <span style=\"color:green\"> *n_frame* $\\cdot$ *dt* $\\cdot$ *speed_up* </span> should give at least 2400 (40 minutes)\n",
    "\n",
    "<span style=\"color:red\"> With more than 1000 cars, processing the animations takes several minutes </span>"
   ]
  },
  {
   "cell_type": "code",
   "execution_count": null,
   "metadata": {},
   "outputs": [],
   "source": [
    "G, city__radius = set_road_network(city,city_radius)\n",
    "\n",
    "if city == 'Bologna' and citta50:\n",
    "    città50(G,show = False)\n",
    "    \n",
    "clean_graph_data(G)\n",
    "show_speed_limits(G)"
   ]
  },
  {
   "cell_type": "code",
   "execution_count": null,
   "metadata": {},
   "outputs": [],
   "source": [
    "closeness_centrality = nx.closeness_centrality(G)"
   ]
  },
  {
   "cell_type": "code",
   "execution_count": null,
   "metadata": {},
   "outputs": [],
   "source": [
    "street_passage, accident_positions = traffic_simulation(G,\n",
    "                n_cars = n_cars,\n",
    "                radius = city__radius,\n",
    "                speed_up = speed_up,\n",
    "                closeness_centrality=closeness_centrality,\n",
    "                size = 2*city_radius,\n",
    "                scale = scale,\n",
    "                dt = dt,\n",
    "                n_frame = n_frame, \n",
    "                animate=animate)"
   ]
  },
  {
   "cell_type": "code",
   "execution_count": null,
   "metadata": {},
   "outputs": [],
   "source": [
    "show_traffic_and_accident(G,street_passage,accident_positions)"
   ]
  }
 ],
 "metadata": {
  "kernelspec": {
   "display_name": "ox",
   "language": "python",
   "name": "python3"
  },
  "language_info": {
   "codemirror_mode": {
    "name": "ipython",
    "version": 3
   },
   "file_extension": ".py",
   "mimetype": "text/x-python",
   "name": "python",
   "nbconvert_exporter": "python",
   "pygments_lexer": "ipython3",
   "version": "3.12.1"
  }
 },
 "nbformat": 4,
 "nbformat_minor": 2
}

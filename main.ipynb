{
 "cells": [
  {
   "cell_type": "code",
   "execution_count": null,
   "metadata": {},
   "outputs": [],
   "source": [
    "import osmnx as ox\n",
    "import networkx as nx\n",
    "import numpy as np\n",
    "import matplotlib.pyplot as plt\n",
    "import pandas as pd\n",
    "import random\n",
    "from matplotlib.animation import FuncAnimation\n",
    "from IPython.display import display, HTML\n",
    "from tqdm import tqdm\n",
    "import warnings\n",
    "import time\n",
    "import statistics as st"
   ]
  },
  {
   "cell_type": "code",
   "execution_count": null,
   "metadata": {},
   "outputs": [],
   "source": [
    "from utilities import *\n",
    "from simulation import traffic_simulation"
   ]
  },
  {
   "cell_type": "code",
   "execution_count": null,
   "metadata": {},
   "outputs": [],
   "source": [
    "warnings.filterwarnings(\"ignore\")\n",
    "plt.rcParams['animation.embed_limit'] = 2**128"
   ]
  },
  {
   "cell_type": "markdown",
   "metadata": {},
   "source": [
    "start_time e end_time serviranno alla fine per il tempo di computazione"
   ]
  },
  {
   "cell_type": "code",
   "execution_count": null,
   "metadata": {},
   "outputs": [],
   "source": [
    "start_time = time.time()"
   ]
  },
  {
   "cell_type": "code",
   "execution_count": null,
   "metadata": {},
   "outputs": [],
   "source": [
    "end_time = time.time()\n",
    "\n",
    "print(f'time total = {end_time - start_time}s')"
   ]
  },
  {
   "cell_type": "markdown",
   "metadata": {},
   "source": [
    "Latitudes and longitudes of 'Zona 30' cities except Minneapolis (all the italians except Bologna are in discussion)"
   ]
  },
  {
   "cell_type": "code",
   "execution_count": null,
   "metadata": {},
   "outputs": [],
   "source": [
    "cities = {'Bologna' : (44.495555, 11.3428), 'Ferrara' : (44.835297, 11.619865), 'Modena' : (44.64582, 10.92572), 'Reggio Emilia' : (44.7, 10.633333), \n",
    "          'Firenze' : (43.771389, 11.254167), 'Torino' : (45.079167, 7.676111), 'Napoli' : (40.833333, 14.25), 'Milano' : (45.466944, 9.19), \n",
    "          'Roma' : (41.893056, 12.482778), 'Bergamo' : (45.695, 9.67), 'Verona' : (45.438611, 10.992778), 'Lecce' : (40.352011, 18.169139), \n",
    "          'Padova' : (45.406389, 11.877778), 'Olbia' : (40.916667, 9.5), 'Pesaro' : (43.91015, 12.9133), 'Lecco' : (45.85334, 9.39048),\n",
    "          'Nantes' : (47.218056, -1.552778), 'Minneapolis' : (44.98, -93.268333), 'Bilbao' : (43.266667, -2.933334),'Zurich' : (47.374444, 8.541111), \n",
    "          'Valencia' : (39.483333, -0.366667), 'Barcelona' : (41.3825, 2.176944), 'Madrid' : (40.415524, -3.707488), 'Toronto' : (43.716589, -79.340686), \n",
    "          'Bruxelles' : (50.846667, 4.351667), 'Lyon' : (45.766944, 4.834167), 'Graz' : (47.070833, 15.438611), 'Edinburgh' : (55.953333, -3.189167)}"
   ]
  },
  {
   "cell_type": "code",
   "execution_count": null,
   "metadata": {},
   "outputs": [],
   "source": [
    "city = 'Bologna'\n",
    "city_radius = 3900 #in meters\n",
    "\n",
    "# Create urban network from latitude and longitude\n",
    "G = ox.graph_from_point(cities[city], dist=city_radius, dist_type='bbox', network_type='drive_service', simplify = True)\n",
    "G = ox.project_graph(G)\n",
    "osmids = list(G.nodes)\n",
    "G = nx.relabel.convert_node_labels_to_integers(G)\n",
    "\n",
    "# give each node its original osmid as attribute since we relabeled them\n",
    "osmid_values = {k: v for k, v in zip(G.nodes, osmids)}\n",
    "nx.set_node_attributes(G, osmid_values, \"osmid\")\n",
    "\n",
    "\n",
    "'''fig, ax = ox.plot.plot_graph(G, bgcolor='black',node_size=5, node_color='white', show=False)\n",
    "plt.axis('on')\n",
    "plt.title(city)\n",
    "plt.show()'''\n",
    "\n",
    "#inizializing some useful graph attributes\n",
    "clean_graph_data(G)\n",
    "\n",
    "ztl = ['Tangenziale di Bologna', 'Autostrada Bologna-Padova','Autostrada Adriatica','Via Francesco Rizzoli','Via Ugo Bassi',\"Via dell'Indipendenza\"]\n",
    "tangenziale = ['Tangenziale di Bologna', 'Autostrada Bologna-Padova','Autostrada Adriatica']\n",
    "remove_edges(G,tangenziale)\n",
    "fig, ax = ox.plot.plot_graph(G, bgcolor='black',node_size=5, node_color='white', show=False)\n",
    "plt.axis('on')\n",
    "plt.title(city)\n",
    "plt.show()"
   ]
  },
  {
   "cell_type": "markdown",
   "metadata": {},
   "source": [
    "Queste due sotto serviranno dopo per la Città50"
   ]
  },
  {
   "cell_type": "code",
   "execution_count": null,
   "metadata": {},
   "outputs": [],
   "source": [
    "strade10 = []\n",
    "limite10 = []\n",
    "i=1\n",
    "with open('strade10.txt','r') as file:\n",
    "    for line in file:\n",
    "    #lines = [line.strip() for line in file.readlines()]\n",
    "        #values = line.split()\n",
    "        if i%2 != 0:\n",
    "            lines = line.strip()\n",
    "            strade10.append(lines)\n",
    "        else: \n",
    "            limite10.append(float(line))\n",
    "        i+=1"
   ]
  },
  {
   "cell_type": "code",
   "execution_count": null,
   "metadata": {},
   "outputs": [],
   "source": [
    "def città10(graph,streets,limits):\n",
    "    for _,_,data in graph.edges(data=True):\n",
    "        if 'name' in data:\n",
    "            if data['name'] in streets:\n",
    "                index = streets.index(data['name'])\n",
    "                data['maxspeed'] = limits[index]"
   ]
  },
  {
   "cell_type": "code",
   "execution_count": null,
   "metadata": {},
   "outputs": [],
   "source": [
    "connectivity_analysis(G,city)\n"
   ]
  },
  {
   "cell_type": "code",
   "execution_count": null,
   "metadata": {},
   "outputs": [],
   "source": [
    "degree_histogram(G,city)"
   ]
  },
  {
   "cell_type": "code",
   "execution_count": null,
   "metadata": {},
   "outputs": [],
   "source": [
    "centrality_analysis(G,city)"
   ]
  },
  {
   "cell_type": "code",
   "execution_count": null,
   "metadata": {},
   "outputs": [],
   "source": [
    "#computing Global Efficiency\n",
    "G1 = global_efficiency(G)\n",
    "\n",
    "#computing Information Centrality\n",
    "G.remove_edge(4,7) #remove some edges wiht for loops\n",
    "G2 = global_efficiency(G) #ma perchè scriviamo in inglese?\n",
    "print(G1,G2, G1-G2, (G1-G2)/G1) #scemo chi legge\n",
    "#G.edges #scemo chi l'edges"
   ]
  },
  {
   "cell_type": "code",
   "execution_count": null,
   "metadata": {},
   "outputs": [],
   "source": [
    "città50(G)"
   ]
  },
  {
   "cell_type": "code",
   "execution_count": null,
   "metadata": {},
   "outputs": [],
   "source": [
    "closeness_centrality = nx.closeness_centrality(G)"
   ]
  },
  {
   "cell_type": "code",
   "execution_count": null,
   "metadata": {},
   "outputs": [],
   "source": [
    "n_frame, dt, speed_up, n_cars= 720, 0.02, 500, 3000\n",
    "\n",
    "cars_velocities , cars_accelerations, max_accel_per_frame, max_velocity_per_frame, mean_speed, mean_accel, travelling_times, mean_travelling_time, street_passage, accident_positions = traffic_simulation(G,\n",
    "                n_cars = n_cars,\n",
    "                radius = city_radius,\n",
    "                speed_up = speed_up,\n",
    "                closeness_centrality=closeness_centrality,\n",
    "                size = 2*city_radius,\n",
    "                scale = 0.3,\n",
    "                dt = dt,\n",
    "                n_frame = n_frame, \n",
    "                animate=False)"
   ]
  },
  {
   "cell_type": "code",
   "execution_count": null,
   "metadata": {},
   "outputs": [],
   "source": [
    "if max(max_velocity_per_frame) < 100:\n",
    "    already_passed = []\n",
    "    edge_counts = []\n",
    "    with open('edges_passage.txt','r') as file:\n",
    "        for line in file:\n",
    "            values = line.split()\n",
    "            # Convert the values to integers (assuming they're integers)\n",
    "            edge1 = int(values[0])\n",
    "            edge2 = int(values[1])\n",
    "            count = int(values[2])\n",
    "            already_passed.append((edge1,edge2))\n",
    "            edge_counts.append(count)\n",
    "\n",
    "\n",
    "    for edge in street_passage:\n",
    "        if (edge[0],edge[1]) in already_passed:\n",
    "            index = already_passed.index((edge[0],edge[1]))\n",
    "            edge_counts[index] += 1\n",
    "            continue\n",
    "        already_passed.append((edge[0],edge[1]))\n",
    "        edge_counts.append(edge[2])\n",
    "            \n",
    "    with open('edges_passage.txt','w') as file:\n",
    "        pass\n",
    "\n",
    "    with open('edges_passage.txt','w') as file:\n",
    "        for edge in already_passed:\n",
    "            index = already_passed.index(edge)\n",
    "            file.write(f\"{edge[0]} {edge[1]} {edge_counts[index]}\\n\")\n",
    "\n",
    "    # travelling times and mean speed\n",
    "    with open('travelling_times.txt','a') as file:\n",
    "        for time in travelling_times:\n",
    "            file.write(f\"{time}\\n\")\n",
    "\n",
    "    with open('mean_speed.txt','a') as file:\n",
    "        file.write(f\"{mean_speed}\\n\")\n",
    "    \n",
    "    with open('mean_accel.txt','a') as file:\n",
    "        file.write(f\"{mean_accel}\\n\")\n",
    "\n",
    "    #accident positions\n",
    "    if accident_positions:\n",
    "        with open('accident_position.txt','a') as file:\n",
    "            for accident in accident_positions:\n",
    "                file.write(f\"{accident[0]} {accident[1]}\\n\")\n",
    "    print('Alright my man...')"
   ]
  },
  {
   "cell_type": "code",
   "execution_count": null,
   "metadata": {},
   "outputs": [],
   "source": [
    "mean_velocity_per_frame = np.zeros(np.shape(cars_velocities)[0])\n",
    "mean = 0\n",
    "for i in range(np.shape(cars_velocities)[0]):\n",
    "    mean_velocity_per_frame[i] = np.mean(cars_velocities[i])\n",
    "    print(np.mean(cars_velocities[i]))\n",
    "    \n",
    "#mean = np.sum(mean_velocity_per_frame)\n",
    "#mean"
   ]
  },
  {
   "cell_type": "code",
   "execution_count": null,
   "metadata": {},
   "outputs": [],
   "source": [
    "max(max_velocity_per_frame)"
   ]
  },
  {
   "cell_type": "code",
   "execution_count": null,
   "metadata": {},
   "outputs": [],
   "source": [
    "#DON'T RUN!!!!!!!!!\n",
    "#DON'T\n",
    "#RUN!!!!!!!!!!!\n",
    "with open('edges_passage.txt','w') as file:\n",
    "    pass\n",
    "\n",
    "with open('mean_speed.txt','w') as file:\n",
    "    pass\n",
    "\n",
    "with open('mean_accel.txt','w') as file:\n",
    "    pass\n",
    "\n",
    "with open('travelling_times.txt','w') as file:\n",
    "    pass\n",
    "\n",
    "with open('accident_position.txt','w') as file:\n",
    "    pass"
   ]
  },
  {
   "cell_type": "markdown",
   "metadata": {},
   "source": [
    "## Writing on a txt file the edge passage"
   ]
  },
  {
   "cell_type": "code",
   "execution_count": null,
   "metadata": {},
   "outputs": [],
   "source": [
    "already_passed = []\n",
    "edge_counts = []\n",
    "with open('edges_passage.txt','r') as file:\n",
    "    for line in file:\n",
    "        values = line.split()\n",
    "        # Convert the values to integers (assuming they're integers)\n",
    "        edge1 = int(values[0])\n",
    "        edge2 = int(values[1])\n",
    "        count = int(values[2])\n",
    "        already_passed.append((edge1,edge2))\n",
    "        edge_counts.append(count)\n",
    "\n",
    "\n",
    "for edge in street_passage:\n",
    "    if (edge[0],edge[1]) in already_passed:\n",
    "        index = already_passed.index((edge[0],edge[1]))\n",
    "        edge_counts[index] += 1\n",
    "        continue\n",
    "    already_passed.append((edge[0],edge[1]))\n",
    "    edge_counts.append(edge[2])\n",
    "        \n",
    "with open('edges_passage.txt','w') as file:\n",
    "    pass\n",
    "\n",
    "with open('edges_passage.txt','w') as file:\n",
    "    for edge in already_passed:\n",
    "        index = already_passed.index(edge)\n",
    "        file.write(f\"{edge[0]} {edge[1]} {edge_counts[index]}\\n\")\n",
    "\n",
    "# travelling times and mean speed\n",
    "with open('travelling_times.txt','a') as file:\n",
    "    for time in travelling_times:\n",
    "        file.write(f\"{time}\\n\")\n",
    "\n",
    "with open('mean_speed.txt','a') as file:\n",
    "    file.write(f\"{mean_speed}\\n\")\n",
    "\n",
    "with open('mean_accel.txt','a') as file:\n",
    "    file.write(f\"{mean_accel}\\n\")\n",
    "\n",
    "#accident positions\n",
    "if accident_positions:\n",
    "    with open('accident_position.txt','a') as file:\n",
    "        for accident in accident_positions:\n",
    "            file.write(f\"{accident[0]} {accident[1]}\\n\")"
   ]
  },
  {
   "cell_type": "code",
   "execution_count": null,
   "metadata": {},
   "outputs": [],
   "source": [
    "len(already_passed)"
   ]
  },
  {
   "cell_type": "markdown",
   "metadata": {},
   "source": [
    "## Reading from a txt file"
   ]
  },
  {
   "cell_type": "code",
   "execution_count": null,
   "metadata": {},
   "outputs": [],
   "source": [
    "streets = []\n",
    "with open('edges_passage.txt','r') as file:\n",
    "    for line in file:\n",
    "        values = line.split()\n",
    "        # Convert the values to integers (assuming they're integers)\n",
    "        edge1 = int(values[0])\n",
    "        edge2 = int(values[1])\n",
    "        count = int(values[2])\n",
    "        streets.append((edge1,edge2,count))\n",
    "\n",
    "\n",
    "Travelling_times = []\n",
    "with open('travelling_times.txt','r') as file:\n",
    "    for line in file:\n",
    "        values = line.split()\n",
    "        # Convert the values to integers (assuming they're integers)\n",
    "        time = float(values[0])\n",
    "        Travelling_times.append(time)\n",
    "\n",
    "Travelling_times = np.array(Travelling_times)\n",
    "# Create a figure and axis for plotting\n",
    "fig, ax = plt.subplots()\n",
    "\n",
    "# Define the initial histogram\n",
    "n_bins = int(max(Travelling_times/60))\n",
    "hist, _ = np.histogram(Travelling_times/60, bins=n_bins)\n",
    "bars = ax.bar(range(n_bins), hist)\n",
    "\n",
    "ax.set_title('Travelling times')\n",
    "ax.set_xlabel('minutes')\n",
    "ax.set_ylabel('Frequency')\n",
    "\n",
    "mean_travelling_time = sum(Travelling_times)/len(Travelling_times)\n",
    "mode = st.mode(Travelling_times)\n",
    "\n",
    "plt.text(0.95, 0.95, f\"Mean: {int(mean_travelling_time/60)}m {(mean_travelling_time/60 - int(mean_travelling_time/60))*60:.2f}s\\n Mode: {int(mode/60)}m {(mode/60 - int(mode/60))*60:.2f}s\\n\", \n",
    "         horizontalalignment='right', verticalalignment='top', transform=plt.gca().transAxes)\n",
    "#print(f'Mode: {int(mode/60)}m {(mode/60 - int(mode/60))*60:.2f}s\\n')\n",
    "#print(f'Mean travelling time: {int(mean_travelling_time/60)}m {round((mean_travelling_time/60 - int(mean_travelling_time/60))*60,2)}s\\n')\n",
    "\n",
    "plt.show()"
   ]
  },
  {
   "cell_type": "code",
   "execution_count": null,
   "metadata": {},
   "outputs": [],
   "source": [
    "show_traffic_and_accident(G,street_passage,accident_positions)"
   ]
  },
  {
   "cell_type": "markdown",
   "metadata": {},
   "source": [
    "### Animazione velocità "
   ]
  },
  {
   "cell_type": "code",
   "execution_count": null,
   "metadata": {},
   "outputs": [],
   "source": [
    "animate_speeds(cars_velocities,max_velocity_per_frame,n_cars,speed_up,dt)"
   ]
  },
  {
   "cell_type": "markdown",
   "metadata": {},
   "source": [
    "Acceleration animation (?)"
   ]
  },
  {
   "cell_type": "code",
   "execution_count": null,
   "metadata": {},
   "outputs": [],
   "source": [
    "animate_accelerations(cars_velocities,max_velocity_per_frame,n_cars,speed_up,dt)"
   ]
  },
  {
   "cell_type": "markdown",
   "metadata": {},
   "source": [
    "# DATI TRAFFICO REALI"
   ]
  },
  {
   "cell_type": "code",
   "execution_count": null,
   "metadata": {},
   "outputs": [],
   "source": [
    "traffico = pd.read_excel('rilevazione-flusso-veicoli-tramite-spire-anno-2024.xlsx')"
   ]
  },
  {
   "cell_type": "code",
   "execution_count": null,
   "metadata": {},
   "outputs": [],
   "source": [
    "traffico['total'] = np.zeros(len(traffico['x']))"
   ]
  },
  {
   "cell_type": "code",
   "execution_count": null,
   "metadata": {},
   "outputs": [],
   "source": [
    "traffico"
   ]
  },
  {
   "cell_type": "code",
   "execution_count": null,
   "metadata": {},
   "outputs": [],
   "source": [
    "for dati in traffico:\n",
    "    if dati == '05:00-06:00':\n",
    "        print(dati)\n",
    "a = 11\n",
    "b = 13\n",
    "a_s = str(11)\n",
    "b_s = str(13)\n",
    "d = b-a\n",
    "for _ in range(d):\n",
    "    print(a_s+':00-'+str(int(a_s) + 1)+':00')\n",
    "    a += 1\n",
    "    a_s = str(a)\n",
    "\n",
    "\n",
    "#traffico[a+':00-'+str(int(a) + 1)+':00']\n",
    "#traffico['11:00-12:00']\n"
   ]
  },
  {
   "cell_type": "markdown",
   "metadata": {},
   "source": [
    "# CAMBIA IL NUMERO DI 'PASSAGE'"
   ]
  },
  {
   "cell_type": "code",
   "execution_count": null,
   "metadata": {},
   "outputs": [],
   "source": [
    "def show_traffic_data(graph,traffic_data,days,hours = [0,24]): \n",
    "    traffic_edges = []\n",
    "    passage_values = []\n",
    "    \n",
    "    #data = traffic_data['latitudine'],traffic_data['longitudine'],traffic_data['giorno settimana']\n",
    "\n",
    "    # Filter traffic data based on 'giorno settimana'\n",
    "    filtered_data = traffic_data[traffic_data['giorno settimana'].isin(days)]\n",
    "    min_hour = hours[0]\n",
    "    max_hour = hours[1]\n",
    "    diff_hours = max_hour - min_hour\n",
    "    min_hour_str = str(min_hour)\n",
    "    max_hour_str = str(max_hour)\n",
    "    d = max_hour - min_hour\n",
    "    for _ in range(d):\n",
    "        filtered_data['total'] += filtered_data[min_hour_str+':00-'+str(int(min_hour_str) + 1)+':00']\n",
    "        min_hour += 1\n",
    "        min_hour_str = str(min_hour)\n",
    "\n",
    "    # Use `nearest_edges` function on filtered data\n",
    "    #traffic_edges = filtered_data.apply(lambda row: ox.nearest_edges(graph, row['latitudine'], row['longitudine'])[:2], axis=1)\n",
    "\n",
    "    '''with tqdm(total=len(filtered_data)) as pbar:\n",
    "        # Use apply function to apply nearest_edges function on each row\n",
    "        traffic_edges = filtered_data.apply(lambda row: ox.nearest_edges(graph, row['latitudine'], row['longitudine'])[:2], axis=1)\n",
    "        pbar.update(len(filtered_data))'''\n",
    "    # Calculate the total number of rows in the DataFrame\n",
    "    #total_rows = len(filtered_data)\n",
    "\n",
    "    traffic_edges = ox.nearest_edges(graph,filtered_data['x'],filtered_data['y'])\n",
    "\n",
    "    for a in filtered_data['total']:\n",
    "        passage_values.append(a)\n",
    "\n",
    "    \n",
    "    #with tqdm(total=total_rows) as pbar:\n",
    "        #for lat, long in zip(filtered_data['latitudine'], filtered_data['longitudine']):\n",
    "            #traffic_edges.append(ox.nearest_edges(graph,lat,long)[:2])\n",
    "\n",
    "            #pbar.update(1)\n",
    "\n",
    "    #for lat,long in tqdm(zip(filtered_data['latitudine'],filtered_data['longitudine'])):\n",
    "        #if filtered_data['giorno settimana'][i] in days:\n",
    "        #traffic_edges.append(ox.nearest_edges(graph,data[0][i],data[1][i])[:2])\n",
    "        #traffic_edges.append(ox.nearest_edges(graph,lat,long)[:2])\n",
    "\n",
    "    nodes,edges = ox.graph_to_gdfs(graph,nodes=True,edges=True)\n",
    "\n",
    "    for i in range(len(traffic_edges)):\n",
    "        edges.loc[(traffic_edges[i][0],traffic_edges[i][1]),'passage'][0] = passage_values[i]\n",
    "    \n",
    "\n",
    "    min_passage = sum(passage_values)/len(passage_values)\n",
    "    \n",
    "    for u,v,data in graph.edges(data=True):\n",
    "        if data['passage'] == 0:\n",
    "            edges.loc[(u,v),'passage'][0] += 0\n",
    "            \n",
    "    #for edge in traffic_edges:\n",
    "        #edges.loc[(edge[0],edge[1]),'passage'][0] += edges[2]\n",
    "\n",
    "    graph = ox.graph_from_gdfs(nodes,edges)\n",
    "\n",
    "    #Get edge passages\n",
    "    edge_values = np.array([data['passage'] for u, v, data in graph.edges(data=True)])\n",
    "    norm_edge_values = (edge_values - min(edge_values))/(max(edge_values - min(edge_values)))\n",
    "\n",
    "    # Define a colormap\n",
    "    cmap = plt.cm.RdBu \n",
    "\n",
    "    # Normalize edge lengths\n",
    "    norm = plt.Normalize(min(edge_values), max(edge_values))\n",
    "\n",
    "    # Map edge lengths to colors\n",
    "    colors = [cmap(norm(value)) for value in edge_values]\n",
    "\n",
    "    #Plot the network with colored edges\n",
    "    fig , ax = ox.plot_graph(graph, edge_color=plt.cm.RdBu(norm_edge_values), node_size=0, bgcolor='black', edge_linewidth=0.5,show=False)\n",
    "\n",
    "    # Add colorbar\n",
    "    sm = plt.cm.ScalarMappable(cmap=cmap, norm=norm)\n",
    "    sm.set_array([])\n",
    "    plt.colorbar(sm, ax=ax,label='Edge Passage')\n",
    "    plt.title('Traffic data')\n",
    "    plt.show()\n",
    "\n",
    "    return passage_values\n",
    "    "
   ]
  },
  {
   "cell_type": "code",
   "execution_count": null,
   "metadata": {},
   "outputs": [],
   "source": [
    "days = ['Mercoledì']\n",
    "passage_values = show_traffic_data(G,traffico,days,[11,13])"
   ]
  },
  {
   "cell_type": "code",
   "execution_count": null,
   "metadata": {},
   "outputs": [],
   "source": [
    "'''for _,_,data in G.edges(data=True):\n",
    "        if float(data['maxspeed']) > 40:\n",
    "            data['maxspeed'] = 0.001'''\n",
    "# Get edge passages\n",
    "edge_values = np.array([data['maxspeed'] for u, v, key, data in G.edges(keys=True, data=True)])\n",
    "norm_edge_values = (edge_values - min(edge_values))/(max(edge_values - min(edge_values)))\n",
    "\n",
    "# Define a colormap\n",
    "cmap = plt.cm.RdBu \n",
    "\n",
    "# Normalize edge lengths\n",
    "norm = plt.Normalize(min(edge_values), max(edge_values))\n",
    "\n",
    "# Map edge lengths to colors\n",
    "colors = [cmap(norm(value)) for value in edge_values]\n",
    "\n",
    "#Plot the network with colored edges\n",
    "fig , ax = ox.plot_graph(G, edge_color=colors, node_size=0, bgcolor='black', edge_linewidth=0.5,show=False)\n",
    "\n",
    "# Add colorbar\n",
    "sm = plt.cm.ScalarMappable(cmap=cmap, norm=norm)\n",
    "sm.set_array([])\n",
    "plt.colorbar(sm, ax=ax,label='Edge Passage')\n",
    "plt.title('Roads more populated')\n",
    "plt.show()"
   ]
  },
  {
   "cell_type": "markdown",
   "metadata": {},
   "source": [
    "# Incidenti"
   ]
  },
  {
   "cell_type": "code",
   "execution_count": null,
   "metadata": {},
   "outputs": [],
   "source": [
    "incidenti = pd.read_excel('Incidenti.xlsx')"
   ]
  },
  {
   "cell_type": "code",
   "execution_count": null,
   "metadata": {},
   "outputs": [],
   "source": [
    "incidenti"
   ]
  },
  {
   "cell_type": "code",
   "execution_count": null,
   "metadata": {},
   "outputs": [],
   "source": [
    "print(incidenti['DATA'][0].year,type(incidenti['DATA'][0].year))\n",
    "print(type(incidenti['GIORNO'][0]))\n",
    "print(incidenti['ORA'][0],type(incidenti['ORA'][0]))\n",
    "print(type(incidenti['X'][1].astype(float)))\n",
    "len(incidenti['X'])\n",
    "a = [2010,2011]\n",
    "incidenti['DATA'][0].year in a"
   ]
  },
  {
   "cell_type": "code",
   "execution_count": null,
   "metadata": {},
   "outputs": [],
   "source": [
    "def show_accident_data(graph,accident_data,years,hours=[0,24]):\n",
    "    nodes,edges = ox.graph_to_gdfs(graph,nodes=True,edges=True)\n",
    "    \n",
    "    graph = ox.graph_from_gdfs(nodes,edges)\n",
    "    \n",
    "    edge_accident = []\n",
    "    hour = accident_data['ORA'].astype(float)\n",
    "\n",
    "    x = accident_data['X'].astype(float)\n",
    "    y = accident_data['Y'].astype(float)\n",
    "\n",
    "\n",
    "    \n",
    "    for i in range(len(accident_data)):\n",
    "        if accident_data['DATA'][i].year in years: #and hour[i] > hours[0] and hour[i] < hours[1]:\n",
    "            edge_accident.append(ox.nearest_edges(graph,x[i],y[i]))\n",
    "\n",
    "    for edge in edge_accident:\n",
    "        edges.loc[(edge[0],edge[1]),'accident'][0] += 1\n",
    "    \n",
    "\n",
    "    graph = ox.graph_from_gdfs(nodes,edges)\n",
    "\n",
    "    #Get edge passages\n",
    "    edge_values = np.array([data['accident'] for u, v, data in graph.edges(data=True)])\n",
    "    norm_edge_values = (edge_values - min(edge_values))/(max(edge_values)-min(edge_values))\n",
    "    # Define a colormap\n",
    "    cmap = plt.cm.RdBu \n",
    "\n",
    "    # Normalize edge lengths\n",
    "    norm = plt.Normalize(min(edge_values), max(edge_values))\n",
    "\n",
    "    # Map edge lengths to colors\n",
    "    colors = [cmap(norm(value)) for value in edge_values]\n",
    "\n",
    "    #Plot the network with colored edges\n",
    "    fig , ax = ox.plot_graph(graph, edge_color=plt.cm.RdBu(norm_edge_values), node_size=0., bgcolor='black', edge_linewidth=0.5,show=False)\n",
    "\n",
    "    # Add colorbar\n",
    "    sm = plt.cm.ScalarMappable(cmap=cmap, norm=norm)\n",
    "    sm.set_array([])\n",
    "    plt.colorbar(sm, ax=ax,label='Edge Passage')\n",
    "    plt.title('Traffic data')\n",
    "    plt.show()\n",
    "\n",
    "\n",
    "    \n"
   ]
  },
  {
   "cell_type": "code",
   "execution_count": null,
   "metadata": {},
   "outputs": [],
   "source": [
    "show_accident_data(G,incidenti,[2018,2019,2020])"
   ]
  },
  {
   "cell_type": "code",
   "execution_count": null,
   "metadata": {},
   "outputs": [],
   "source": [
    "x=incidenti['X']\n",
    "y=incidenti['Y']\n",
    "\n",
    "plt.scatter(x,y,s=0.5)\n",
    "plt.show()"
   ]
  }
 ],
 "metadata": {
  "kernelspec": {
   "display_name": "ox",
   "language": "python",
   "name": "python3"
  },
  "language_info": {
   "codemirror_mode": {
    "name": "ipython",
    "version": 3
   },
   "file_extension": ".py",
   "mimetype": "text/x-python",
   "name": "python",
   "nbconvert_exporter": "python",
   "pygments_lexer": "ipython3",
   "version": "3.12.1"
  }
 },
 "nbformat": 4,
 "nbformat_minor": 2
}

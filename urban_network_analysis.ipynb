{
 "cells": [
  {
   "cell_type": "code",
   "execution_count": null,
   "metadata": {},
   "outputs": [],
   "source": [
    "from utils import set_road_network, connectivity_analysis, degree_histogram, vulnerability, centrality_analysis"
   ]
  },
  {
   "cell_type": "code",
   "execution_count": null,
   "metadata": {},
   "outputs": [],
   "source": [
    "city = 'Bologna'\n",
    "city_radius = 3900"
   ]
  },
  {
   "cell_type": "markdown",
   "metadata": {},
   "source": [
    "# City choice\n",
    "##### Set the city and its radius (in meters) modifing the variable *city* and *city radius* or leave the default setup.\n",
    "##### Here's the list of available cities:\n",
    "\n",
    "Cities discussed in the report:\n",
    "\n",
    "- Bologna (Italy)\n",
    "\n",
    "- Nantes (France)\n",
    "\n",
    "- Edinburgh (UK) \n",
    "\n",
    "- Zurich (Switzerland)\n",
    "\n",
    "- La Plata (Argentina)\n",
    "\n",
    "Foreing zona30 cities:\n",
    "\n",
    "- Bilbao (Spain)\n",
    "\n",
    "- Madrid (Spain)\n",
    "\n",
    "- Valencia (Spain)\n",
    "\n",
    "- Barcelona (Spain)\n",
    "\n",
    "- Lyon (France)\n",
    "\n",
    "- Toronto (Canada)\n",
    "\n",
    "- Bruxelles (Belgium)\n",
    "\n",
    "- Graz (Austria)\n",
    "\n",
    "Italian cities where zona30 is under discussion:\n",
    "\n",
    "- Roma\n",
    "\n",
    "- Napoli\n",
    "\n",
    "- Firenze\n",
    "\n",
    "- Milano\n",
    "\n",
    "- Torino\n",
    "\n",
    "- Ferrara\n",
    "\n",
    "- Modena\n",
    "\n",
    "- Reggio Emilia\n",
    "\n",
    "- Verona\n",
    "\n",
    "- Padova\n",
    "\n",
    "- Bergamo\n",
    "\n",
    "- Lecco\n",
    "\n",
    "- Lecce\n",
    "\n",
    "- Olbia\n",
    "\n",
    "- Pesaro\n"
   ]
  },
  {
   "cell_type": "code",
   "execution_count": null,
   "metadata": {},
   "outputs": [],
   "source": [
    "G, city_radius = set_road_network(city,city_radius)"
   ]
  },
  {
   "cell_type": "code",
   "execution_count": null,
   "metadata": {},
   "outputs": [],
   "source": [
    "connectivity_analysis(city)"
   ]
  },
  {
   "cell_type": "code",
   "execution_count": null,
   "metadata": {},
   "outputs": [],
   "source": [
    "degree_histogram(city)"
   ]
  },
  {
   "cell_type": "code",
   "execution_count": null,
   "metadata": {},
   "outputs": [],
   "source": [
    "vulnerability(city)"
   ]
  },
  {
   "cell_type": "markdown",
   "metadata": {},
   "source": [
    "#### The function *vulnerability* is made just for Bologna, Nantes, Edinburgh, Zurich. \n",
    "#### Vulnerability factor is computed removing those streets:\n",
    "\n",
    "- <span style=\"color:green\"> *Bologna* </span> : Via dell'Indipendenza, Via Francesco Rizzoli, Via Ugo Bassi\n",
    "\n",
    "- <span style=\"color:green\"> *Nantes* </span> : Rue du Calvaire, Cours des Cinquante Otages, Cours Olivier de Clisson\n",
    "\n",
    "- <span style=\"color:green\"> *Edinburgh* </span> : Lothian Road, Cockburn Street, North Bridge, St Mary's Street\n",
    "\n",
    "- <span style=\"color:green\"> *Zurich* </span> : Langstrasse"
   ]
  },
  {
   "cell_type": "code",
   "execution_count": null,
   "metadata": {},
   "outputs": [],
   "source": [
    "centrality_analysis(city,1000)"
   ]
  }
 ],
 "metadata": {
  "kernelspec": {
   "display_name": "ox",
   "language": "python",
   "name": "python3"
  },
  "language_info": {
   "codemirror_mode": {
    "name": "ipython",
    "version": 3
   },
   "file_extension": ".py",
   "mimetype": "text/x-python",
   "name": "python",
   "nbconvert_exporter": "python",
   "pygments_lexer": "ipython3",
   "version": "3.12.1"
  }
 },
 "nbformat": 4,
 "nbformat_minor": 2
}
